{
 "cells": [
  {
   "cell_type": "markdown",
   "metadata": {
    "id": "LbN7qkaDs-gS"
   },
   "source": [
    "# Opik Optimizer (beta)\n",
    "\n",
    "Welcome to the Opik Opitimizer beta program! In this notebook we'll walk through a basic examples of a number of an optimizer algorithm.\n",
    "\n",
    "## Setup\n",
    "\n",
    "First, let's install the needed Python packages.\n",
    "\n",
    "We'll of course need `opik`:"
   ]
  },
  {
   "cell_type": "code",
   "execution_count": 1,
   "metadata": {
    "colab": {
     "base_uri": "https://localhost:8080/"
    },
    "id": "dHLhruvis8ti",
    "outputId": "1f442506-8ac8-44ce-febd-1f64c903af6b"
   },
   "outputs": [
    {
     "name": "stdout",
     "output_type": "stream",
     "text": [
      "\u001b[2K     \u001b[90m━━━━━━━━━━━━━━━━━━━━━━━━━━━━━━━━━━━━━━━\u001b[0m \u001b[32m149.7/149.7 kB\u001b[0m \u001b[31m7.6 MB/s\u001b[0m eta \u001b[36m0:00:00\u001b[0m\n",
      "\u001b[2K   \u001b[90m━━━━━━━━━━━━━━━━━━━━━━━━━━━━━━━━━━━━━━━━\u001b[0m \u001b[32m491.2/491.2 kB\u001b[0m \u001b[31m32.3 MB/s\u001b[0m eta \u001b[36m0:00:00\u001b[0m\n",
      "\u001b[2K   \u001b[90m━━━━━━━━━━━━━━━━━━━━━━━━━━━━━━━━━━━━━━━━\u001b[0m \u001b[32m68.8/68.8 kB\u001b[0m \u001b[31m7.9 MB/s\u001b[0m eta \u001b[36m0:00:00\u001b[0m\n",
      "\u001b[2K   \u001b[90m━━━━━━━━━━━━━━━━━━━━━━━━━━━━━━━━━━━━━━━━\u001b[0m \u001b[32m161.7/161.7 kB\u001b[0m \u001b[31m19.0 MB/s\u001b[0m eta \u001b[36m0:00:00\u001b[0m\n",
      "\u001b[2K   \u001b[90m━━━━━━━━━━━━━━━━━━━━━━━━━━━━━━━━━━━━━━━━\u001b[0m \u001b[32m44.4/44.4 kB\u001b[0m \u001b[31m4.3 MB/s\u001b[0m eta \u001b[36m0:00:00\u001b[0m\n",
      "\u001b[2K   \u001b[90m━━━━━━━━━━━━━━━━━━━━━━━━━━━━━━━━━━━━━━━━\u001b[0m \u001b[32m7.6/7.6 MB\u001b[0m \u001b[31m112.5 MB/s\u001b[0m eta \u001b[36m0:00:00\u001b[0m\n",
      "\u001b[2K   \u001b[90m━━━━━━━━━━━━━━━━━━━━━━━━━━━━━━━━━━━━━━━━\u001b[0m \u001b[32m3.1/3.1 MB\u001b[0m \u001b[31m113.1 MB/s\u001b[0m eta \u001b[36m0:00:00\u001b[0m\n",
      "\u001b[2K   \u001b[90m━━━━━━━━━━━━━━━━━━━━━━━━━━━━━━━━━━━━━━━━\u001b[0m \u001b[32m1.2/1.2 MB\u001b[0m \u001b[31m75.3 MB/s\u001b[0m eta \u001b[36m0:00:00\u001b[0m\n",
      "\u001b[2K   \u001b[90m━━━━━━━━━━━━━━━━━━━━━━━━━━━━━━━━━━━━━━━━\u001b[0m \u001b[32m65.6/65.6 kB\u001b[0m \u001b[31m7.6 MB/s\u001b[0m eta \u001b[36m0:00:00\u001b[0m\n",
      "\u001b[?25h"
     ]
    }
   ],
   "source": [
    "%pip install opik --quiet"
   ]
  },
  {
   "cell_type": "markdown",
   "metadata": {
    "id": "L-n8gjG45B1c"
   },
   "source": [
    "Next, we'll install the beta version of the `opik-optimizer`:"
   ]
  },
  {
   "cell_type": "code",
   "execution_count": 4,
   "metadata": {
    "id": "SkjxdMfdtB1w"
   },
   "outputs": [],
   "source": [
    "!pip install git+https://github.com/comet-ml/opik#subdirectory=sdks/opik_optimizer --upgrade --quiet > pip-install.log 2>&1"
   ]
  },
  {
   "cell_type": "markdown",
   "metadata": {
    "id": "hNtXvK2Kt3GE"
   },
   "source": [
    "[Comet](https://www.comet.com/site?from=llm&utm_source=opik) provides a hosted version of the Opik platform, [simply create an account](https://www.comet.com/signup?from=llm&utm_source=opik&utm_medium=colab&utm_content=langchain&utm_campaign=opik) and grab your API Key.\n",
    "\n",
    "> You can also run the Opik platform locally, see the [installation guide](https://www.comet.com/docs/opik/self-host/overview/?from=llm&utm_source=opik) for more information.\n",
    "\n",
    "You can use your own workspace."
   ]
  },
  {
   "cell_type": "code",
   "execution_count": 1,
   "metadata": {
    "colab": {
     "base_uri": "https://localhost:8080/"
    },
    "id": "8-mkTrf9vHXk",
    "outputId": "1577492b-f83d-4a53-a16a-943422386961"
   },
   "outputs": [
    {
     "name": "stderr",
     "output_type": "stream",
     "text": [
      "OPIK: Opik is already configured. You can check the settings by viewing the config file at /home/dsblank/.opik.config\n"
     ]
    }
   ],
   "source": [
    "import opik\n",
    "\n",
    "# Configure Opik\n",
    "opik.configure()"
   ]
  },
  {
   "cell_type": "markdown",
   "metadata": {
    "id": "kLSeOY24vWfS"
   },
   "source": [
    "For this example, we'll use OpenAI models, so we need to set our OpenAI API key:"
   ]
  },
  {
   "cell_type": "code",
   "execution_count": 2,
   "metadata": {
    "colab": {
     "base_uri": "https://localhost:8080/"
    },
    "id": "Pf2IJP2Z28P5",
    "outputId": "9f47af74-05ec-42f0-ae7b-996706cd9045"
   },
   "outputs": [],
   "source": [
    "import os\n",
    "import getpass\n",
    "if \"OPENAI_API_KEY\" not in os.environ:\n",
    "    os.environ[\"OPENAI_API_KEY\"] = getpass.getpass(\"Enter your OpenAI API key: \")"
   ]
  },
  {
   "cell_type": "markdown",
   "metadata": {
    "id": "NSj91yEMvqHi"
   },
   "source": [
    "To optimize any prompt, we'll need:\n",
    "\n",
    "1. A starting prompt\n",
    "2. A metric\n",
    "3. A dataset\n",
    "\n",
    "For this initial test, we'll start with a portion of the HotpotQA dataset.\n",
    "\n",
    "HotpotQA is a question/answering dataset featuring natural questions, with correct answers. It was collected by a team of NLP researchers at Carnegie Mellon University, Stanford University, and Université de Montréal.\n",
    "\n",
    "Let's take a look at the demo dataset \"hotpot-300\".\n",
    "\n",
    "First, we get or create it. This will add it to our default Opik project:"
   ]
  },
  {
   "cell_type": "code",
   "execution_count": 3,
   "metadata": {
    "id": "Rvg_dl5MwmwO"
   },
   "outputs": [
    {
     "name": "stdout",
     "output_type": "stream",
     "text": [
      "Inserted 0 record(s) in litellm cache\n"
     ]
    }
   ],
   "source": [
    "from opik_optimizer.demo import get_or_create_dataset\n",
    "from opik_optimizer.demo.cache import get_litellm_cache\n",
    "\n",
    "\n",
    "opik_dataset = get_or_create_dataset(\"hotpot-300\")\n",
    "get_litellm_cache(\"test\")"
   ]
  },
  {
   "cell_type": "markdown",
   "metadata": {
    "id": "n8mwHiP_xfNi"
   },
   "source": [
    "Let's look at a specific row from the dataset:"
   ]
  },
  {
   "cell_type": "code",
   "execution_count": 4,
   "metadata": {
    "colab": {
     "base_uri": "https://localhost:8080/"
    },
    "id": "v5la3y6Kw00C",
    "outputId": "6e62120a-4b25-47de-abfa-545fcb470656"
   },
   "outputs": [
    {
     "data": {
      "text/plain": [
       "{'id': '0195d400-517b-7f17-b746-ff3d084463ac',\n",
       " 'question': 'Were both drinks, the Smoking Bishop and the Mickey Slim, popular in different countries?',\n",
       " 'answer': 'yes'}"
      ]
     },
     "execution_count": 4,
     "metadata": {},
     "output_type": "execute_result"
    }
   ],
   "source": [
    "rows = opik_dataset.get_items()\n",
    "rows[0]"
   ]
  },
  {
   "cell_type": "markdown",
   "metadata": {
    "id": "dc7GqXTlxmnS"
   },
   "source": [
    "We see that each item has a \"question\" and \"answer\". Some of the answers are short and direct, and some of them are more complicated:"
   ]
  },
  {
   "cell_type": "code",
   "execution_count": 5,
   "metadata": {
    "colab": {
     "base_uri": "https://localhost:8080/"
    },
    "id": "VOU4GVxkxF9D",
    "outputId": "8f1cfe2f-0681-4284-c783-bc0872a9b9f4"
   },
   "outputs": [
    {
     "data": {
      "text/plain": [
       "{'id': '0195d400-5179-7259-8104-1f0a55a13ac2',\n",
       " 'question': 'Woody Wuthrie wrote the song \"Do Re Mi\" which was about migrants and their experiences when they arrive in California and are greeted with severe storms that came in waves in what years?',\n",
       " 'answer': '1934, 1936, and 1939–1940'}"
      ]
     },
     "execution_count": 5,
     "metadata": {},
     "output_type": "execute_result"
    }
   ],
   "source": [
    "rows[2]"
   ]
  },
  {
   "cell_type": "markdown",
   "metadata": {
    "id": "cA_73ohDx8zo"
   },
   "source": [
    "As you can see, the answers can be a little messy. We'll need a good metric to able to determine whether a prompt is good or not. But let's start simple.\n",
    "\n",
    "We'll use the `Equals` metric from Opik.\n",
    "\n",
    "It works like this:"
   ]
  },
  {
   "cell_type": "code",
   "execution_count": 6,
   "metadata": {
    "colab": {
     "base_uri": "https://localhost:8080/"
    },
    "id": "JyN9fjDqysDl",
    "outputId": "2494f610-d9b9-4d2a-c297-672832be0042"
   },
   "outputs": [
    {
     "name": "stderr",
     "output_type": "stream",
     "text": [
      "OPIK: Started logging traces to the \"Default Project\" project at https://www.comet.com/opik/api/v1/session/redirect/projects/?trace_id=0196ab60-35a2-7453-98b9-eaf8e07d4300&path=aHR0cHM6Ly93d3cuY29tZXQuY29tL29waWsvYXBpLw==.\n"
     ]
    },
    {
     "data": {
      "text/plain": [
       "ScoreResult(name='equals_metric', value=1.0, reason=None, metadata=None, scoring_failed=False)"
      ]
     },
     "execution_count": 6,
     "metadata": {},
     "output_type": "execute_result"
    }
   ],
   "source": [
    "from opik.evaluation.metrics import Equals\n",
    "\n",
    "metric = Equals()\n",
    "\n",
    "metric.score(\"Hello\", \"Hello\")"
   ]
  },
  {
   "cell_type": "markdown",
   "metadata": {
    "id": "F8Dhc8NXzark"
   },
   "source": [
    "Here we can see that value is 1.0. That meens that the two values are the same.\n",
    "\n",
    "What counts as equal? "
   ]
  },
  {
   "cell_type": "code",
   "execution_count": 7,
   "metadata": {
    "colab": {
     "base_uri": "https://localhost:8080/"
    },
    "id": "Ml39af7HzUsF",
    "outputId": "1516fd81-b3a8-456c-f8ac-d275ab0fa123"
   },
   "outputs": [
    {
     "data": {
      "text/plain": [
       "ScoreResult(name='equals_metric', value=1.0, reason=None, metadata=None, scoring_failed=False)"
      ]
     },
     "execution_count": 7,
     "metadata": {},
     "output_type": "execute_result"
    }
   ],
   "source": [
    "metric.score(\"Hello\", \"heLLo\")"
   ]
  },
  {
   "cell_type": "code",
   "execution_count": 8,
   "metadata": {
    "colab": {
     "base_uri": "https://localhost:8080/"
    },
    "id": "q1fbHU0qzy0H",
    "outputId": "143897ee-74e5-4627-be32-8c54e8fb8c6a"
   },
   "outputs": [
    {
     "data": {
      "text/plain": [
       "ScoreResult(name='equals_metric', value=0.0, reason=None, metadata=None, scoring_failed=False)"
      ]
     },
     "execution_count": 8,
     "metadata": {},
     "output_type": "execute_result"
    }
   ],
   "source": [
    "metric.score(\"hello\", \"hell\")"
   ]
  },
  {
   "cell_type": "markdown",
   "metadata": {
    "id": "-I0Coxgt0QNd"
   },
   "source": [
    "Ok, we have a dataset and a metric, now we are ready to construct an optimizer.\n",
    "\n",
    "We can use an OpenAI model name, or more generally, a LiteLLM model name. Just make sure you have your model API key set as we did above.\n",
    "\n",
    "We'll start with the `FewShotBayesianOptimizer`:"
   ]
  },
  {
   "cell_type": "code",
   "execution_count": 9,
   "metadata": {
    "id": "ixQUjZS5tPOU"
   },
   "outputs": [],
   "source": [
    "from opik_optimizer import (\n",
    "    FewShotBayesianOptimizer,\n",
    "    MetricConfig,\n",
    "    from_llm_response_text,\n",
    "    from_dataset_field,\n",
    "    TaskConfig,\n",
    ")\n",
    "\n",
    "optimizer = FewShotBayesianOptimizer(\n",
    "    model=\"gpt-4o-mini\",\n",
    "    temperature=0.1,\n",
    "    max_tokens=5000,\n",
    ")"
   ]
  },
  {
   "cell_type": "markdown",
   "metadata": {
    "id": "fBdeiCOIQIf1"
   },
   "source": [
    "Now, we need a prompt to optimize. Given the examples above, let's try something like:"
   ]
  },
  {
   "cell_type": "code",
   "execution_count": 10,
   "metadata": {
    "id": "uD7I2j-cQS0E"
   },
   "outputs": [],
   "source": [
    "initial_prompt = \"Provide an answer to the question\""
   ]
  },
  {
   "cell_type": "code",
   "execution_count": 11,
   "metadata": {},
   "outputs": [],
   "source": [
    "project_name = \"optimize-few-shot-hotpot-300\""
   ]
  },
  {
   "cell_type": "code",
   "execution_count": 12,
   "metadata": {
    "id": "itjS_IndaM4R"
   },
   "outputs": [],
   "source": [
    "messages = [\n",
    "    {\"role\": \"system\", \"content\": initial_prompt},\n",
    "    {\"role\": \"user\", \"content\": \"{{question}}\"},\n",
    "]"
   ]
  },
  {
   "cell_type": "code",
   "execution_count": 13,
   "metadata": {
    "id": "s-QEws-2aTNg"
   },
   "outputs": [],
   "source": [
    "metric_config = MetricConfig(\n",
    "    metric=Equals(project_name=project_name),\n",
    "    inputs={\n",
    "        \"output\": from_llm_response_text(),\n",
    "        \"reference\": from_dataset_field(name=\"answer\"),\n",
    "    },\n",
    ")\n",
    "\n",
    "task_config = TaskConfig(\n",
    "    instruction_prompt=initial_prompt,\n",
    "    input_dataset_fields=[\"question\"],\n",
    "    output_dataset_field=\"answer\",\n",
    "    use_chat_prompt=True,\n",
    ")"
   ]
  },
  {
   "cell_type": "code",
   "execution_count": 14,
   "metadata": {
    "colab": {
     "base_uri": "https://localhost:8080/",
     "height": 1000
    },
    "id": "V8nqp8deQciO",
    "outputId": "58f5942a-b5c9-4288-9112-cae568eafbaa"
   },
   "outputs": [
    {
     "data": {
      "application/vnd.jupyter.widget-view+json": {
       "model_id": "d361add095ca47309d73c028a0917b83",
       "version_major": 2,
       "version_minor": 0
      },
      "text/plain": [
       "Evaluation:   0%|          | 0/100 [00:00<?, ?it/s]"
      ]
     },
     "metadata": {},
     "output_type": "display_data"
    },
    {
     "data": {
      "text/html": [
       "<pre style=\"white-space:pre;overflow-x:auto;line-height:normal;font-family:Menlo,'DejaVu Sans Mono',consolas,'Courier New',monospace\">╭─ hotpot-300 (100 samples) ──╮\n",
       "│                             │\n",
       "│ <span style=\"font-weight: bold\">Total time:       </span> 00:00:27 │\n",
       "│ <span style=\"font-weight: bold\">Number of samples:</span> 100      │\n",
       "│                             │\n",
       "│ <span style=\"color: #008000; text-decoration-color: #008000; font-weight: bold\">equals_metric: 0.0000 (avg)</span> │\n",
       "│                             │\n",
       "╰─────────────────────────────╯\n",
       "</pre>\n"
      ],
      "text/plain": [
       "╭─ hotpot-300 (100 samples) ──╮\n",
       "│                             │\n",
       "│ \u001b[1mTotal time:       \u001b[0m 00:00:27 │\n",
       "│ \u001b[1mNumber of samples:\u001b[0m 100      │\n",
       "│                             │\n",
       "│ \u001b[1;32mequals_metric: 0.0000 (avg)\u001b[0m │\n",
       "│                             │\n",
       "╰─────────────────────────────╯\n"
      ]
     },
     "metadata": {},
     "output_type": "display_data"
    },
    {
     "data": {
      "text/html": [
       "<pre style=\"white-space:pre;overflow-x:auto;line-height:normal;font-family:Menlo,'DejaVu Sans Mono',consolas,'Courier New',monospace\">Uploading results to Opik <span style=\"color: #808000; text-decoration-color: #808000\">...</span> \n",
       "</pre>\n"
      ],
      "text/plain": [
       "Uploading results to Opik \u001b[33m...\u001b[0m \n"
      ]
     },
     "metadata": {},
     "output_type": "display_data"
    },
    {
     "data": {
      "text/html": [
       "<pre style=\"white-space:pre;overflow-x:auto;line-height:normal;font-family:Menlo,'DejaVu Sans Mono',consolas,'Courier New',monospace\">View the results <a href=\"https://www.comet.com/opik/api/v1/session/redirect/experiments/?experiment_id=0196ab60-4326-7217-8360-7b3b820cd0a7&dataset_id=0195d400-52bc-7ac1-ae8e-74931512157f&path=aHR0cHM6Ly93d3cuY29tZXQuY29tL29waWsvYXBpLw==\" target=\"_blank\">in your Opik dashboard</a>.\n",
       "</pre>\n"
      ],
      "text/plain": [
       "View the results \u001b]8;id=533225;https://www.comet.com/opik/api/v1/session/redirect/experiments/?experiment_id=0196ab60-4326-7217-8360-7b3b820cd0a7&dataset_id=0195d400-52bc-7ac1-ae8e-74931512157f&path=aHR0cHM6Ly93d3cuY29tZXQuY29tL29waWsvYXBpLw==\u001b\\in your Opik dashboard\u001b]8;;\u001b\\.\n"
      ]
     },
     "metadata": {},
     "output_type": "display_data"
    },
    {
     "data": {
      "text/plain": [
       "0.0"
      ]
     },
     "execution_count": 14,
     "metadata": {},
     "output_type": "execute_result"
    }
   ],
   "source": [
    "score = optimizer.evaluate_prompt(\n",
    "    dataset=opik_dataset,\n",
    "    metric_config=metric_config,\n",
    "    prompt=messages,\n",
    "    n_samples=100,\n",
    ")\n",
    "score"
   ]
  },
  {
   "cell_type": "markdown",
   "metadata": {
    "id": "wO6Dax5vQ1iY"
   },
   "source": [
    "The score 0.15 is pretty low. Let's see if we can optimize it!"
   ]
  },
  {
   "cell_type": "markdown",
   "metadata": {
    "id": "Tr9o0G-_2rg8"
   },
   "source": [
    "The FewShotBayesianOptimizer can, fairly quickly, create better prompts.\n",
    "\n",
    "Let's try it out. It takes exactly the same parameters as evaluate_prompt(), but will run for a minute or so."
   ]
  },
  {
   "cell_type": "code",
   "execution_count": 15,
   "metadata": {
    "colab": {
     "base_uri": "https://localhost:8080/",
     "height": 1000
    },
    "id": "6fRxnVXX0kqv",
    "outputId": "fcd27452-e01d-4b00-ddec-107ffd9d294f"
   },
   "outputs": [
    {
     "name": "stderr",
     "output_type": "stream",
     "text": [
      "[I 2025-05-07 11:32:42,943] A new study created in memory with name: no-name-99b18981-8714-4cbb-b177-c2a667cea925\n"
     ]
    },
    {
     "data": {
      "application/vnd.jupyter.widget-view+json": {
       "model_id": "e2c4954cb15241a3b798887b359d37eb",
       "version_major": 2,
       "version_minor": 0
      },
      "text/plain": [
       "Evaluation:   0%|          | 0/100 [00:00<?, ?it/s]"
      ]
     },
     "metadata": {},
     "output_type": "display_data"
    },
    {
     "data": {
      "text/html": [
       "<pre style=\"white-space:pre;overflow-x:auto;line-height:normal;font-family:Menlo,'DejaVu Sans Mono',consolas,'Courier New',monospace\">╭─ hotpot-300 (100 samples) ──╮\n",
       "│                             │\n",
       "│ <span style=\"font-weight: bold\">Total time:       </span> 00:00:13 │\n",
       "│ <span style=\"font-weight: bold\">Number of samples:</span> 100      │\n",
       "│                             │\n",
       "│ <span style=\"color: #008000; text-decoration-color: #008000; font-weight: bold\">equals_metric: 0.1100 (avg)</span> │\n",
       "│                             │\n",
       "╰─────────────────────────────╯\n",
       "</pre>\n"
      ],
      "text/plain": [
       "╭─ hotpot-300 (100 samples) ──╮\n",
       "│                             │\n",
       "│ \u001b[1mTotal time:       \u001b[0m 00:00:13 │\n",
       "│ \u001b[1mNumber of samples:\u001b[0m 100      │\n",
       "│                             │\n",
       "│ \u001b[1;32mequals_metric: 0.1100 (avg)\u001b[0m │\n",
       "│                             │\n",
       "╰─────────────────────────────╯\n"
      ]
     },
     "metadata": {},
     "output_type": "display_data"
    },
    {
     "data": {
      "text/html": [
       "<pre style=\"white-space:pre;overflow-x:auto;line-height:normal;font-family:Menlo,'DejaVu Sans Mono',consolas,'Courier New',monospace\">Uploading results to Opik <span style=\"color: #808000; text-decoration-color: #808000\">...</span> \n",
       "</pre>\n"
      ],
      "text/plain": [
       "Uploading results to Opik \u001b[33m...\u001b[0m \n"
      ]
     },
     "metadata": {},
     "output_type": "display_data"
    },
    {
     "data": {
      "text/html": [
       "<pre style=\"white-space:pre;overflow-x:auto;line-height:normal;font-family:Menlo,'DejaVu Sans Mono',consolas,'Courier New',monospace\">View the results <a href=\"https://www.comet.com/opik/api/v1/session/redirect/experiments/?experiment_id=0196ab60-b1b3-7b58-8af2-617866cb7aa6&dataset_id=0195d400-52bc-7ac1-ae8e-74931512157f&path=aHR0cHM6Ly93d3cuY29tZXQuY29tL29waWsvYXBpLw==\" target=\"_blank\">in your Opik dashboard</a>.\n",
       "</pre>\n"
      ],
      "text/plain": [
       "View the results \u001b]8;id=988712;https://www.comet.com/opik/api/v1/session/redirect/experiments/?experiment_id=0196ab60-b1b3-7b58-8af2-617866cb7aa6&dataset_id=0195d400-52bc-7ac1-ae8e-74931512157f&path=aHR0cHM6Ly93d3cuY29tZXQuY29tL29waWsvYXBpLw==\u001b\\in your Opik dashboard\u001b]8;;\u001b\\.\n"
      ]
     },
     "metadata": {},
     "output_type": "display_data"
    },
    {
     "name": "stderr",
     "output_type": "stream",
     "text": [
      "[I 2025-05-07 11:32:57,199] Trial 0 finished with value: 0.11 and parameters: {'n_examples': 2, 'example_0': 266, 'example_1': 49}. Best is trial 0 with value: 0.11.\n"
     ]
    },
    {
     "data": {
      "application/vnd.jupyter.widget-view+json": {
       "model_id": "05b66fa758fe4602ae11a77aaffcf28e",
       "version_major": 2,
       "version_minor": 0
      },
      "text/plain": [
       "Evaluation:   0%|          | 0/100 [00:00<?, ?it/s]"
      ]
     },
     "metadata": {},
     "output_type": "display_data"
    },
    {
     "data": {
      "text/html": [
       "<pre style=\"white-space:pre;overflow-x:auto;line-height:normal;font-family:Menlo,'DejaVu Sans Mono',consolas,'Courier New',monospace\">╭─ hotpot-300 (100 samples) ──╮\n",
       "│                             │\n",
       "│ <span style=\"font-weight: bold\">Total time:       </span> 00:00:10 │\n",
       "│ <span style=\"font-weight: bold\">Number of samples:</span> 100      │\n",
       "│                             │\n",
       "│ <span style=\"color: #008000; text-decoration-color: #008000; font-weight: bold\">equals_metric: 0.2400 (avg)</span> │\n",
       "│                             │\n",
       "╰─────────────────────────────╯\n",
       "</pre>\n"
      ],
      "text/plain": [
       "╭─ hotpot-300 (100 samples) ──╮\n",
       "│                             │\n",
       "│ \u001b[1mTotal time:       \u001b[0m 00:00:10 │\n",
       "│ \u001b[1mNumber of samples:\u001b[0m 100      │\n",
       "│                             │\n",
       "│ \u001b[1;32mequals_metric: 0.2400 (avg)\u001b[0m │\n",
       "│                             │\n",
       "╰─────────────────────────────╯\n"
      ]
     },
     "metadata": {},
     "output_type": "display_data"
    },
    {
     "data": {
      "text/html": [
       "<pre style=\"white-space:pre;overflow-x:auto;line-height:normal;font-family:Menlo,'DejaVu Sans Mono',consolas,'Courier New',monospace\">Uploading results to Opik <span style=\"color: #808000; text-decoration-color: #808000\">...</span> \n",
       "</pre>\n"
      ],
      "text/plain": [
       "Uploading results to Opik \u001b[33m...\u001b[0m \n"
      ]
     },
     "metadata": {},
     "output_type": "display_data"
    },
    {
     "data": {
      "text/html": [
       "<pre style=\"white-space:pre;overflow-x:auto;line-height:normal;font-family:Menlo,'DejaVu Sans Mono',consolas,'Courier New',monospace\">View the results <a href=\"https://www.comet.com/opik/api/v1/session/redirect/experiments/?experiment_id=0196ab60-e9eb-7848-b503-b1c02fb40fe4&dataset_id=0195d400-52bc-7ac1-ae8e-74931512157f&path=aHR0cHM6Ly93d3cuY29tZXQuY29tL29waWsvYXBpLw==\" target=\"_blank\">in your Opik dashboard</a>.\n",
       "</pre>\n"
      ],
      "text/plain": [
       "View the results \u001b]8;id=747581;https://www.comet.com/opik/api/v1/session/redirect/experiments/?experiment_id=0196ab60-e9eb-7848-b503-b1c02fb40fe4&dataset_id=0195d400-52bc-7ac1-ae8e-74931512157f&path=aHR0cHM6Ly93d3cuY29tZXQuY29tL29waWsvYXBpLw==\u001b\\in your Opik dashboard\u001b]8;;\u001b\\.\n"
      ]
     },
     "metadata": {},
     "output_type": "display_data"
    },
    {
     "name": "stderr",
     "output_type": "stream",
     "text": [
      "[I 2025-05-07 11:33:08,522] Trial 1 finished with value: 0.24 and parameters: {'n_examples': 7, 'example_0': 21, 'example_1': 173, 'example_2': 116, 'example_3': 115, 'example_4': 162, 'example_5': 18, 'example_6': 215}. Best is trial 1 with value: 0.24.\n"
     ]
    },
    {
     "data": {
      "application/vnd.jupyter.widget-view+json": {
       "model_id": "b964aa372a0c43f583f6de9bf3d688e6",
       "version_major": 2,
       "version_minor": 0
      },
      "text/plain": [
       "Evaluation:   0%|          | 0/100 [00:00<?, ?it/s]"
      ]
     },
     "metadata": {},
     "output_type": "display_data"
    },
    {
     "data": {
      "text/html": [
       "<pre style=\"white-space:pre;overflow-x:auto;line-height:normal;font-family:Menlo,'DejaVu Sans Mono',consolas,'Courier New',monospace\">╭─ hotpot-300 (100 samples) ──╮\n",
       "│                             │\n",
       "│ <span style=\"font-weight: bold\">Total time:       </span> 00:00:10 │\n",
       "│ <span style=\"font-weight: bold\">Number of samples:</span> 100      │\n",
       "│                             │\n",
       "│ <span style=\"color: #008000; text-decoration-color: #008000; font-weight: bold\">equals_metric: 0.2700 (avg)</span> │\n",
       "│                             │\n",
       "╰─────────────────────────────╯\n",
       "</pre>\n"
      ],
      "text/plain": [
       "╭─ hotpot-300 (100 samples) ──╮\n",
       "│                             │\n",
       "│ \u001b[1mTotal time:       \u001b[0m 00:00:10 │\n",
       "│ \u001b[1mNumber of samples:\u001b[0m 100      │\n",
       "│                             │\n",
       "│ \u001b[1;32mequals_metric: 0.2700 (avg)\u001b[0m │\n",
       "│                             │\n",
       "╰─────────────────────────────╯\n"
      ]
     },
     "metadata": {},
     "output_type": "display_data"
    },
    {
     "data": {
      "text/html": [
       "<pre style=\"white-space:pre;overflow-x:auto;line-height:normal;font-family:Menlo,'DejaVu Sans Mono',consolas,'Courier New',monospace\">Uploading results to Opik <span style=\"color: #808000; text-decoration-color: #808000\">...</span> \n",
       "</pre>\n"
      ],
      "text/plain": [
       "Uploading results to Opik \u001b[33m...\u001b[0m \n"
      ]
     },
     "metadata": {},
     "output_type": "display_data"
    },
    {
     "data": {
      "text/html": [
       "<pre style=\"white-space:pre;overflow-x:auto;line-height:normal;font-family:Menlo,'DejaVu Sans Mono',consolas,'Courier New',monospace\">View the results <a href=\"https://www.comet.com/opik/api/v1/session/redirect/experiments/?experiment_id=0196ab61-15ef-7bfa-9e5d-c9bab90a9f7a&dataset_id=0195d400-52bc-7ac1-ae8e-74931512157f&path=aHR0cHM6Ly93d3cuY29tZXQuY29tL29waWsvYXBpLw==\" target=\"_blank\">in your Opik dashboard</a>.\n",
       "</pre>\n"
      ],
      "text/plain": [
       "View the results \u001b]8;id=510311;https://www.comet.com/opik/api/v1/session/redirect/experiments/?experiment_id=0196ab61-15ef-7bfa-9e5d-c9bab90a9f7a&dataset_id=0195d400-52bc-7ac1-ae8e-74931512157f&path=aHR0cHM6Ly93d3cuY29tZXQuY29tL29waWsvYXBpLw==\u001b\\in your Opik dashboard\u001b]8;;\u001b\\.\n"
      ]
     },
     "metadata": {},
     "output_type": "display_data"
    },
    {
     "name": "stderr",
     "output_type": "stream",
     "text": [
      "[I 2025-05-07 11:33:20,229] Trial 2 finished with value: 0.27 and parameters: {'n_examples': 6, 'example_0': 76, 'example_1': 205, 'example_2': 11, 'example_3': 42, 'example_4': 84, 'example_5': 262}. Best is trial 2 with value: 0.27.\n"
     ]
    }
   ],
   "source": [
    "result = optimizer.optimize_prompt(opik_dataset, metric_config, task_config, n_trials=3, n_samples=100)"
   ]
  },
  {
   "cell_type": "code",
   "execution_count": 16,
   "metadata": {
    "colab": {
     "base_uri": "https://localhost:8080/"
    },
    "id": "MYG0Ld45vAm8",
    "outputId": "9f9021b6-afe2-4a2a-dd63-d29cc062b843"
   },
   "outputs": [
    {
     "name": "stdout",
     "output_type": "stream",
     "text": [
      "{'role': 'system', 'content': 'Provide an answer to the question\\n\\nYou are an intelligent assistant that learns from few-shot examples provided earlier in the conversation. Whenever you respond, carefully follow the structure, tone, and format of previous assistant replies, using them as a guide'}\n",
      "{'role': 'user', 'content': '\\n{\\n  \"question\": \"In what country was televison introduced in 1957 and TV6, a terrestrial satellite and cable television channel launched?\"\\n}\\n'}\n",
      "{'role': 'assistant', 'content': 'Lithuania'}\n",
      "{'role': 'user', 'content': '\\n{\\n  \"question\": \"What did the first book of Gary Zukav explore ?\"\\n}\\n'}\n",
      "{'role': 'assistant', 'content': 'empirical topics in modern physics research'}\n",
      "{'role': 'user', 'content': '\\n{\\n  \"question\": \"What is the nationality of the author of Progress in Optics?\"\\n}\\n'}\n",
      "{'role': 'assistant', 'content': 'American'}\n",
      "{'role': 'user', 'content': '\\n{\\n  \"question\": \"Where is the head office of the company that developed No issue, lelo tissue located?\"\\n}\\n'}\n",
      "{'role': 'assistant', 'content': 'Islamabad'}\n",
      "{'role': 'user', 'content': '\\n{\\n  \"question\": \"Francis Ford Coppola was the director for which trilogy in which the family name is Corleone?\"\\n}\\n'}\n",
      "{'role': 'assistant', 'content': 'The Godfather'}\n",
      "{'role': 'user', 'content': '\\n{\\n  \"question\": \"Caesars Palace is located between The Mirage and a resort casino owned by what company?\"\\n}\\n'}\n",
      "{'role': 'assistant', 'content': 'MGM Resorts International'}\n",
      "{'role': 'user', 'content': '{\"question\": \"{{question}}\"}'}\n"
     ]
    }
   ],
   "source": [
    "for message in result.prompt:\n",
    "    print(message)"
   ]
  },
  {
   "cell_type": "markdown",
   "metadata": {
    "id": "xSZoEVBDRoyZ"
   },
   "source": [
    "Although there is some randomness, you probably got a better prompt. My result is about 5 times better.\n",
    "\n",
    "This is just the initial framework for optimizers for Opik!\n",
    "\n",
    "Please see the [Opik Optimizer repo](https://github.com/comet-ml/opik/tree/main/sdks/opik_optimizer) for additional examples using different algorithms."
   ]
  }
 ],
 "metadata": {
  "accelerator": "GPU",
  "colab": {
   "gpuType": "L4",
   "machine_shape": "hm",
   "provenance": []
  },
  "kernelspec": {
   "display_name": "Python 3 (ipykernel)",
   "language": "python",
   "name": "python3"
  },
  "language_info": {
   "codemirror_mode": {
    "name": "ipython",
    "version": 3
   },
   "file_extension": ".py",
   "mimetype": "text/x-python",
   "name": "python",
   "nbconvert_exporter": "python",
   "pygments_lexer": "ipython3",
   "version": "3.12.2"
  }
 },
 "nbformat": 4,
 "nbformat_minor": 4
}
